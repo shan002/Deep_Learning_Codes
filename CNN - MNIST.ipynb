{
 "cells": [
  {
   "cell_type": "code",
   "execution_count": 1,
   "id": "08674a81",
   "metadata": {},
   "outputs": [],
   "source": [
    "import numpy as np\n",
    "import matplotlib.pyplot as plt\n",
    "import torch\n",
    "import torch.nn as nn\n",
    "import torchvision.datasets as datasets\n",
    "import torchvision.transforms as transforms"
   ]
  },
  {
   "cell_type": "code",
   "execution_count": 2,
   "id": "31f74ab9",
   "metadata": {},
   "outputs": [],
   "source": [
    "mnist_mean = 0.1307\n",
    "mnist_std = 0.3081"
   ]
  },
  {
   "cell_type": "code",
   "execution_count": 3,
   "id": "cb8e4edf",
   "metadata": {},
   "outputs": [],
   "source": [
    "# Getting the dataset\n",
    "transforms_ori = transforms.Compose([transforms.ToTensor(), \n",
    "                                 transforms.Normalize((mnist_mean,), (mnist_std,))])\n",
    "train_set = datasets.MNIST(root='./data', \n",
    "                           train=True, \n",
    "                           transform=transforms_ori, \n",
    "                           download=True)\n",
    "\n",
    "test_set = datasets.MNIST(root='./data', \n",
    "                         train=False, \n",
    "                         transform=transforms_ori, download=True)"
   ]
  },
  {
   "cell_type": "code",
   "execution_count": 4,
   "id": "656a1a44",
   "metadata": {},
   "outputs": [],
   "source": [
    "# Splitting the datasets into batches\n",
    "batch_size = 100\n",
    "\n",
    "train_loader = torch.utils.data.DataLoader(dataset=train_set, \n",
    "                                           batch_size=batch_size, \n",
    "                                           shuffle=True)\n",
    "\n",
    "test_loader = torch.utils.data.DataLoader(dataset=test_set,\n",
    "                                          batch_size=batch_size,\n",
    "                                          shuffle=False)"
   ]
  },
  {
   "cell_type": "code",
   "execution_count": 5,
   "id": "12f5e154",
   "metadata": {},
   "outputs": [
    {
     "data": {
      "image/png": "[encoded data removed]",
      "text/plain": [
       "<Figure size 432x288 with 1 Axes>"
      ]
     },
     "metadata": {
      "needs_background": "light"
     },
     "output_type": "display_data"
    }
   ],
   "source": [
    "# Visualizing random image from dataset\n",
    "index = np.random.randint(len(train_set))\n",
    "img = train_set[index][0] * mnist_std + mnist_mean\n",
    "plt.imshow(img.view(28, 28), cmap='gray')\n",
    "plt.title(train_set[index][1])\n",
    "plt.show()"
   ]
  },
  {
   "cell_type": "markdown",
   "id": "1c1bf274",
   "metadata": {},
   "source": [
    "![A cnn architecture for MNIST dataset](https://camo.githubusercontent.com/0901afe897bc7e3793c8584d75b1007fb0abe49a6c933a98c62594ad814d5164/68747470733a2f2f757365722d696d616765732e67697468756275736572636f6e74656e742e636f6d2f33303636313539372f36313731333437312d33633935376430302d616438622d313165392d396133382d6533663464316537323536352e706e67)"
   ]
  },
  {
   "cell_type": "code",
   "execution_count": 6,
   "id": "01ad09b7",
   "metadata": {},
   "outputs": [],
   "source": [
    "# Defining the cnn\n",
    "class Net(nn.Module):\n",
    "    def __init__(self):\n",
    "        super().__init__()\n",
    "        \n",
    "        self.conv1 = nn.Conv2d(in_channels=1, out_channels=8, kernel_size=3, stride=1, padding=1) # out = 8*28*28\n",
    "        self.batchnorm1 = nn.BatchNorm2d(num_features=8)\n",
    "        self.relu = nn.ReLU()\n",
    "        self.maxpool = nn.MaxPool2d(kernel_size=2) # out = 8*14*14\n",
    "        \n",
    "        self.conv2 = nn.Conv2d(in_channels=8, out_channels=32, kernel_size=5, stride=1, padding=2) # out = 32*14*14\n",
    "        self.batchnorm2 = nn.BatchNorm2d(num_features=32)\n",
    "        # relu\n",
    "        # maxpool # out = 32*7*7\n",
    "        \n",
    "        # Flatten # out = 32*7*7 = 1568\n",
    "        self.fc1 = nn.Linear(in_features=1568, out_features=600)\n",
    "        # relu\n",
    "        self.dropout = nn.Dropout(p=0.5)\n",
    "        self.fc2 = nn.Linear(in_features=600, out_features=10)\n",
    "        \n",
    "    def forward(self, X):\n",
    "        output = self.conv1(X)\n",
    "        output = self.batchnorm1(output)\n",
    "        output = self.relu(output)\n",
    "        output = self.maxpool(output)\n",
    "        \n",
    "        output = self.conv2(output)\n",
    "        output = self.batchnorm2(output)\n",
    "        output = self.relu(output)\n",
    "        output = self.maxpool(output)\n",
    "        \n",
    "        output = output.view(-1, 1568) # flatten. Batch_size is inferred by -1\n",
    "        output = self.fc1(output)\n",
    "        output = self.relu(output)\n",
    "        output = self.dropout(output)\n",
    "        output = self.fc2(output)\n",
    "        \n",
    "        return output\n",
    "        "
   ]
  },
  {
   "cell_type": "code",
   "execution_count": 7,
   "id": "c0c325ad",
   "metadata": {},
   "outputs": [],
   "source": [
    "# Building the cnn\n",
    "model = Net()\n",
    "\n",
    "# loss_fn\n",
    "loss_fn = nn.CrossEntropyLoss(reduction='mean')\n",
    "\n",
    "# optimizer\n",
    "optimizer = torch.optim.Adam(model.parameters(), lr=0.01)"
   ]
  },
  {
   "cell_type": "code",
   "execution_count": 8,
   "id": "5949a8a7",
   "metadata": {},
   "outputs": [
    {
     "name": "stdout",
     "output_type": "stream",
     "text": [
      "Epoch: 1/5, Train loss: 3.38, Train accuracy: 83.99% | Test loss: 0.06, Test accuracy: 98.06%\n",
      "Epoch: 2/5, Train loss: 1.03, Train accuracy: 94.59% | Test loss: 0.05, Test accuracy: 98.50%\n"
     ]
    },
    {
     "ename": "KeyboardInterrupt",
     "evalue": "",
     "output_type": "error",
     "traceback": [
      "\u001b[1;31m---------------------------------------------------------------------------\u001b[0m",
      "\u001b[1;31mKeyboardInterrupt\u001b[0m                         Traceback (most recent call last)",
      "Input \u001b[1;32mIn [8]\u001b[0m, in \u001b[0;36m<cell line: 8>\u001b[1;34m()\u001b[0m\n\u001b[0;32m     19\u001b[0m     total_loss \u001b[38;5;241m+\u001b[39m\u001b[38;5;241m=\u001b[39m loss\u001b[38;5;241m.\u001b[39mitem()\n\u001b[0;32m     20\u001b[0m     optimizer\u001b[38;5;241m.\u001b[39mzero_grad()\n\u001b[1;32m---> 21\u001b[0m     \u001b[43mloss\u001b[49m\u001b[38;5;241;43m.\u001b[39;49m\u001b[43mbackward\u001b[49m\u001b[43m(\u001b[49m\u001b[43m)\u001b[49m\n\u001b[0;32m     22\u001b[0m     optimizer\u001b[38;5;241m.\u001b[39mstep()\n\u001b[0;32m     23\u001b[0m accuracy \u001b[38;5;241m=\u001b[39m correct_image \u001b[38;5;241m/\u001b[39m \u001b[38;5;28mlen\u001b[39m(train_set)\n",
      "File \u001b[1;32m~\\miniconda3\\lib\\site-packages\\torch\\_tensor.py:363\u001b[0m, in \u001b[0;36mTensor.backward\u001b[1;34m(self, gradient, retain_graph, create_graph, inputs)\u001b[0m\n\u001b[0;32m    354\u001b[0m \u001b[38;5;28;01mif\u001b[39;00m has_torch_function_unary(\u001b[38;5;28mself\u001b[39m):\n\u001b[0;32m    355\u001b[0m     \u001b[38;5;28;01mreturn\u001b[39;00m handle_torch_function(\n\u001b[0;32m    356\u001b[0m         Tensor\u001b[38;5;241m.\u001b[39mbackward,\n\u001b[0;32m    357\u001b[0m         (\u001b[38;5;28mself\u001b[39m,),\n\u001b[1;32m   (...)\u001b[0m\n\u001b[0;32m    361\u001b[0m         create_graph\u001b[38;5;241m=\u001b[39mcreate_graph,\n\u001b[0;32m    362\u001b[0m         inputs\u001b[38;5;241m=\u001b[39minputs)\n\u001b[1;32m--> 363\u001b[0m \u001b[43mtorch\u001b[49m\u001b[38;5;241;43m.\u001b[39;49m\u001b[43mautograd\u001b[49m\u001b[38;5;241;43m.\u001b[39;49m\u001b[43mbackward\u001b[49m\u001b[43m(\u001b[49m\u001b[38;5;28;43mself\u001b[39;49m\u001b[43m,\u001b[49m\u001b[43m \u001b[49m\u001b[43mgradient\u001b[49m\u001b[43m,\u001b[49m\u001b[43m \u001b[49m\u001b[43mretain_graph\u001b[49m\u001b[43m,\u001b[49m\u001b[43m \u001b[49m\u001b[43mcreate_graph\u001b[49m\u001b[43m,\u001b[49m\u001b[43m \u001b[49m\u001b[43minputs\u001b[49m\u001b[38;5;241;43m=\u001b[39;49m\u001b[43minputs\u001b[49m\u001b[43m)\u001b[49m\n",
      "File \u001b[1;32m~\\miniconda3\\lib\\site-packages\\torch\\autograd\\__init__.py:173\u001b[0m, in \u001b[0;36mbackward\u001b[1;34m(tensors, grad_tensors, retain_graph, create_graph, grad_variables, inputs)\u001b[0m\n\u001b[0;32m    168\u001b[0m     retain_graph \u001b[38;5;241m=\u001b[39m create_graph\n\u001b[0;32m    170\u001b[0m \u001b[38;5;66;03m# The reason we repeat same the comment below is that\u001b[39;00m\n\u001b[0;32m    171\u001b[0m \u001b[38;5;66;03m# some Python versions print out the first line of a multi-line function\u001b[39;00m\n\u001b[0;32m    172\u001b[0m \u001b[38;5;66;03m# calls in the traceback and some print out the last line\u001b[39;00m\n\u001b[1;32m--> 173\u001b[0m \u001b[43mVariable\u001b[49m\u001b[38;5;241;43m.\u001b[39;49m\u001b[43m_execution_engine\u001b[49m\u001b[38;5;241;43m.\u001b[39;49m\u001b[43mrun_backward\u001b[49m\u001b[43m(\u001b[49m\u001b[43m  \u001b[49m\u001b[38;5;66;43;03m# Calls into the C++ engine to run the backward pass\u001b[39;49;00m\n\u001b[0;32m    174\u001b[0m \u001b[43m    \u001b[49m\u001b[43mtensors\u001b[49m\u001b[43m,\u001b[49m\u001b[43m \u001b[49m\u001b[43mgrad_tensors_\u001b[49m\u001b[43m,\u001b[49m\u001b[43m \u001b[49m\u001b[43mretain_graph\u001b[49m\u001b[43m,\u001b[49m\u001b[43m \u001b[49m\u001b[43mcreate_graph\u001b[49m\u001b[43m,\u001b[49m\u001b[43m \u001b[49m\u001b[43minputs\u001b[49m\u001b[43m,\u001b[49m\n\u001b[0;32m    175\u001b[0m \u001b[43m    \u001b[49m\u001b[43mallow_unreachable\u001b[49m\u001b[38;5;241;43m=\u001b[39;49m\u001b[38;5;28;43;01mTrue\u001b[39;49;00m\u001b[43m,\u001b[49m\u001b[43m \u001b[49m\u001b[43maccumulate_grad\u001b[49m\u001b[38;5;241;43m=\u001b[39;49m\u001b[38;5;28;43;01mTrue\u001b[39;49;00m\u001b[43m)\u001b[49m\n",
      "\u001b[1;31mKeyboardInterrupt\u001b[0m: "
     ]
    }
   ],
   "source": [
    "# Training the network\n",
    "num_epochs = 5\n",
    "train_accuracy = []\n",
    "train_loss = []\n",
    "test_accuracy = []\n",
    "test_loss = []\n",
    "\n",
    "for epoch in range(num_epochs):\n",
    "    # training\n",
    "    correct_image = 0\n",
    "    total_loss = 0\n",
    "    model.train()\n",
    "    for i, (images, labels) in enumerate(train_loader):\n",
    "        outputs = model(images)\n",
    "        _, predictions = torch.max(outputs, 1)\n",
    "        correct_image += (predictions == labels).sum().item()\n",
    "        \n",
    "        loss = loss_fn(outputs, labels)\n",
    "        total_loss += loss.item()\n",
    "        optimizer.zero_grad()\n",
    "        loss.backward()\n",
    "        optimizer.step()\n",
    "    accuracy = correct_image / len(train_set)\n",
    "    train_accuracy.append(accuracy)\n",
    "    train_loss.append(total_loss/batch_size)\n",
    "    \n",
    "    # testing\n",
    "    correct_image = 0\n",
    "    total_loss = 0\n",
    "    model.eval()\n",
    "    for i, (images, labels) in enumerate(test_loader):\n",
    "        outputs = model(images)\n",
    "        _, predictions = torch.max(outputs, 1)\n",
    "        correct_image += (predictions == labels).sum().item()\n",
    "        \n",
    "        loss = loss_fn(outputs, labels)\n",
    "        total_loss += loss.item()\n",
    "    accuracy = correct_image / len(test_set)\n",
    "    test_accuracy.append(accuracy)\n",
    "    test_loss.append(total_loss/batch_size)\n",
    "    \n",
    "    # Printing statistics\n",
    "    print(f\"Epoch: {epoch+1}/{num_epochs}, Train loss: {train_loss[-1]:.2f}, Train accuracy: {train_accuracy[-1]*100.0:.2f}% | \\\n",
    "Test loss: {test_loss[-1]:.2f}, Test accuracy: {test_accuracy[-1]*100.0:.2f}%\")\n",
    "        "
   ]
  },
  {
   "cell_type": "code",
   "execution_count": 9,
   "id": "bdc65589",
   "metadata": {},
   "outputs": [
    {
     "data": {
      "image/png": "[encoded data removed]",
      "text/plain": [
       "<Figure size 432x288 with 2 Axes>"
      ]
     },
     "metadata": {
      "needs_background": "light"
     },
     "output_type": "display_data"
    }
   ],
   "source": [
    "# Visualizing the loss and accuracy\n",
    "fig, (ax1, ax2) = plt.subplots(1, 2)\n",
    "ax1.plot(train_accuracy, label='Train Accuracy')\n",
    "ax1.plot(test_accuracy, label='Test Accuracy')\n",
    "ax1.set_title('Accuracy')\n",
    "ax1.legend()\n",
    "\n",
    "ax2.plot(train_loss, label='Train Loss')\n",
    "ax2.plot(test_loss, label='Test Loss')\n",
    "ax2.set_title('Loss')\n",
    "ax2.legend()\n",
    "\n",
    "plt.show()"
   ]
  },
  {
   "cell_type": "code",
   "execution_count": 10,
   "id": "92096dad",
   "metadata": {},
   "outputs": [],
   "source": [
    "mnist_mean = 0.1307\n",
    "mnist_std = 0.3081\n",
    "capture_transforms = transforms.Compose([transforms.ToPILImage(),\n",
    "                                         transforms.Resize((28, 28)),\n",
    "                                         transforms.ToTensor(),\n",
    "                                         transforms.Normalize((mnist_mean,), (mnist_std,))])"
   ]
  },
  {
   "cell_type": "code",
   "execution_count": 25,
   "id": "5a49d021",
   "metadata": {},
   "outputs": [],
   "source": [
    "# New image prediction\n",
    "import cv2\n",
    "\n",
    "image_gray = cv2.imread('./handwritten_test/digit_3.png', 0)\n",
    "_, thresholded = cv2.threshold(image_gray, 200, 255, cv2.THRESH_BINARY)\n",
    "image_mnist_format = 255 - thresholded\n",
    "\n",
    "image = capture_transforms(image_mnist_format)\n",
    "image = image.view(1, 1, 28, 28) # Adding batch size of 1\n",
    "output = model(image)\n",
    "_, prediction = torch.max(output, 1)\n",
    "\n",
    "white_patch = np.ones((50, image_gray.shape[1]))\n",
    "cv2.rectangle(white_patch, (0, 0), (160, 40), (255, 255, 255), -1)\n",
    "cv2.putText(white_patch, 'Prediction: ' + str(prediction.item()), (2, 30), cv2.FONT_HERSHEY_SIMPLEX, 0.7, (0, 0, 0), 2)\n",
    "cv2.imshow('frame', np.concatenate((image_gray, white_patch), axis=0))\n",
    "while True:\n",
    "    if cv2.waitKey(1) & 0xFF == ord('q'):\n",
    "        break\n",
    "        \n",
    "cv2.destroyAllWindows()"
   ]
  },
  {
   "cell_type": "code",
   "execution_count": null,
   "id": "20067163",
   "metadata": {},
   "outputs": [],
   "source": [
    "# video capture prediction\n",
    "import cv2\n",
    "import time\n",
    "\n",
    "cam = cv2.VideoCapture(0)\n",
    "while True:\n",
    "    ret, frame = cam.read()\n",
    "    \n",
    "    frame_gray = cv2.cvtColor(frame, cv2.COLOR_BGR2GRAY)\n",
    "    _, thresholded = cv2.threshold(frame_gray, 127, 255, cv2.THRESH_BINARY)\n",
    "    image_mnist_format = 255 - thresholded\n",
    "    \n",
    "    image = capture_transforms(image_mnist_format)\n",
    "    image = image.view(1, 1, 28, 28) # Adding batch size of 1\n",
    "    output = model(image)\n",
    "    _, prediction = torch.max(output, 1)\n",
    "    \n",
    "    cv2.rectangle(frame, (0, 0), (160, 40), (255, 255, 255), -1)\n",
    "    cv2.putText(frame, 'Prediction: ' + str(prediction.item()), (5, 30), cv2.FONT_HERSHEY_SIMPLEX, 0.7, (0, 0, 0), 2)\n",
    "    cv2.imshow('frame', frame)\n",
    "    cv2.imshow('gray', image_mnist_format)\n",
    "    \n",
    "    time.sleep(0.2)\n",
    "    \n",
    "    \n",
    "    if cv2.waitKey(1) & 0xFF == ord('q'):\n",
    "        break\n",
    "\n",
    "cam.release()\n",
    "cv2.destroyAllWindows()"
   ]
  },
  {
   "cell_type": "code",
   "execution_count": null,
   "id": "f60f8632",
   "metadata": {},
   "outputs": [],
   "source": []
  }
 ],
 "metadata": {
  "kernelspec": {
   "display_name": "Python 3 (ipykernel)",
   "language": "python",
   "name": "python3"
  },
  "language_info": {
   "codemirror_mode": {
    "name": "ipython",
    "version": 3
   },
   "file_extension": ".py",
   "mimetype": "text/x-python",
   "name": "python",
   "nbconvert_exporter": "python",
   "pygments_lexer": "ipython3",
   "version": "3.9.7"
  }
 },
 "nbformat": 4,
 "nbformat_minor": 5
}
