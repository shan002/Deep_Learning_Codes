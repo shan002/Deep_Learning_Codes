{
 "cells": [
  {
   "cell_type": "code",
   "execution_count": 1,
   "id": "f151f3e9",
   "metadata": {},
   "outputs": [],
   "source": [
    "import numpy\n",
    "import torch\n",
    "import torch.nn as nn\n",
    "import torchvision.datasets as datasets\n",
    "import torchvision.transforms as transforms"
   ]
  },
  {
   "cell_type": "code",
   "execution_count": 2,
   "id": "12414417",
   "metadata": {},
   "outputs": [],
   "source": [
    "# importing the datasets\n",
    "training_dataset = datasets.MNIST(root = './data',\n",
    "                                  train = True,\n",
    "                                  transform = transforms.ToTensor(),\n",
    "                                  download = True)\n",
    "\n",
    "test_dataset = datasets.MNIST(root = './data',\n",
    "                              train = False,\n",
    "                              transform = transforms.ToTensor(),\n",
    "                              download = True)"
   ]
  },
  {
   "cell_type": "code",
   "execution_count": 3,
   "id": "fc2dd756",
   "metadata": {},
   "outputs": [
    {
     "data": {
      "text/plain": [
       "torch.Size([60000, 28, 28])"
      ]
     },
     "execution_count": 3,
     "metadata": {},
     "output_type": "execute_result"
    }
   ],
   "source": [
    "training_dataset.data.shape"
   ]
  },
  {
   "cell_type": "code",
   "execution_count": 4,
   "id": "5510715f",
   "metadata": {},
   "outputs": [
    {
     "data": {
      "text/plain": [
       "torch.Size([28, 28])"
      ]
     },
     "execution_count": 4,
     "metadata": {},
     "output_type": "execute_result"
    }
   ],
   "source": [
    "image = training_dataset.data[0]\n",
    "image.shape"
   ]
  },
  {
   "cell_type": "code",
   "execution_count": 5,
   "id": "8ed8b607",
   "metadata": {},
   "outputs": [
    {
     "data": {
      "image/png": "[encoded data removed]",
      "text/plain": [
       "<Figure size 432x288 with 1 Axes>"
      ]
     },
     "metadata": {
      "needs_background": "light"
     },
     "output_type": "display_data"
    }
   ],
   "source": [
    "import matplotlib.pyplot as plt\n",
    "\n",
    "# Visualizing training images\n",
    "index = 7\n",
    "image = training_dataset.data[index]\n",
    "label = training_dataset.targets[index]\n",
    "plt.imshow(image, cmap='gray')\n",
    "plt.title(label.item())\n",
    "plt.show()"
   ]
  },
  {
   "cell_type": "code",
   "execution_count": 6,
   "id": "17ce5c1b",
   "metadata": {},
   "outputs": [],
   "source": [
    "# Spliting the training dataset into batches\n",
    "training_dataloader = torch.utils.data.DataLoader(dataset = training_dataset,\n",
    "                                                  batch_size = 100,\n",
    "                                                  shuffle = True)"
   ]
  },
  {
   "cell_type": "code",
   "execution_count": 7,
   "id": "e0c16343",
   "metadata": {},
   "outputs": [
    {
     "name": "stdout",
     "output_type": "stream",
     "text": [
      "Number of batches: 600\n",
      "Each batch has: 100 images and 100 labels.\n",
      "Batch input shape: torch.Size([100, 1, 28, 28])\n",
      "Batch output shape: torch.Size([100])\n",
      "Image shape: torch.Size([1, 28, 28])\n",
      "Flatten shape: torch.Size([100, 784])\n"
     ]
    }
   ],
   "source": [
    "for images, labels in training_dataloader:\n",
    "    print(\"Number of batches:\", len(training_dataset)//images.shape[0])\n",
    "    print(f\"Each batch has: {images.shape[0]} images and {labels.shape[0]} labels.\")\n",
    "    print(\"Batch input shape:\", images.shape)\n",
    "    print(\"Batch output shape:\", labels.shape)\n",
    "    print(\"Image shape:\", images[0].shape)\n",
    "    print(\"Flatten shape:\", images.view(-1, 784).shape)\n",
    "    break"
   ]
  },
  {
   "cell_type": "code",
   "execution_count": 8,
   "id": "7869c727",
   "metadata": {},
   "outputs": [],
   "source": [
    "# Defining the parameters\n",
    "input_dim = 784      # 28 * 28\n",
    "hidden_1_dim = 400   # approx. = (input_dim+output_dim)/2\n",
    "hidden_2_dim = 400   # approx. = (input_dim+output_dim)/2\n",
    "output_dim = 10      # 10 digits therfore 10 classes\n",
    "lr = 0.001\n",
    "epochs = 10"
   ]
  },
  {
   "cell_type": "code",
   "execution_count": 9,
   "id": "4964b15a",
   "metadata": {},
   "outputs": [],
   "source": [
    "# Defining the network\n",
    "class Model(nn.Module):\n",
    "    def __init__(self, input_dim, hidden_1_dim, hidden_2_dim, output_dim):\n",
    "        super().__init__()\n",
    "        self.fc1 = nn.Linear(input_dim, hidden_1_dim)\n",
    "        self.fc2 = nn.Linear(hidden_1_dim, hidden_2_dim)\n",
    "        self.fc3 = nn.Linear(hidden_2_dim, output_dim)\n",
    "        self.relu = nn.ReLU()\n",
    "    \n",
    "    def forward(self, X):\n",
    "        out = self.fc1(X)\n",
    "        out = self.relu(out)\n",
    "        out = self.fc2(out)\n",
    "        out = self.relu(out)\n",
    "        out = self.fc3(out)\n",
    "        return out"
   ]
  },
  {
   "cell_type": "code",
   "execution_count": 10,
   "id": "c973c408",
   "metadata": {},
   "outputs": [],
   "source": [
    "# Building the network\n",
    "model = Model(input_dim, hidden_1_dim, hidden_2_dim, output_dim)\n",
    "\n",
    "# loss function\n",
    "loss_fn = nn.CrossEntropyLoss()\n",
    "\n",
    "# optimizer function\n",
    "optimizer = torch.optim.Adam(model.parameters(), lr=lr)"
   ]
  },
  {
   "cell_type": "code",
   "execution_count": 11,
   "id": "7f108214",
   "metadata": {
    "scrolled": true
   },
   "outputs": [
    {
     "data": {
      "text/plain": [
       "<bound method Module.parameters of Model(\n",
       "  (fc1): Linear(in_features=784, out_features=400, bias=True)\n",
       "  (fc2): Linear(in_features=400, out_features=400, bias=True)\n",
       "  (fc3): Linear(in_features=400, out_features=10, bias=True)\n",
       "  (relu): ReLU()\n",
       ")>"
      ]
     },
     "execution_count": 11,
     "metadata": {},
     "output_type": "execute_result"
    }
   ],
   "source": [
    "model.parameters"
   ]
  },
  {
   "cell_type": "code",
   "execution_count": 12,
   "id": "2fa2b495",
   "metadata": {},
   "outputs": [
    {
     "name": "stdout",
     "output_type": "stream",
     "text": [
      "Epoch: 1/10, iteration: 100/600, loss: 0.259,                   accuracy: 81.21%\n",
      "Epoch: 1/10, iteration: 200/600, loss: 0.197,                   accuracy: 86.80%\n",
      "Epoch: 1/10, iteration: 300/600, loss: 0.101,                   accuracy: 89.00%\n",
      "Epoch: 1/10, iteration: 400/600, loss: 0.118,                   accuracy: 90.46%\n",
      "Epoch: 1/10, iteration: 500/600, loss: 0.097,                   accuracy: 91.50%\n",
      "Epoch: 1/10, iteration: 600/600, loss: 0.187,                   accuracy: 92.18%\n",
      "Epoch: 2/10, iteration: 100/600, loss: 0.093,                   accuracy: 96.85%\n",
      "Epoch: 2/10, iteration: 200/600, loss: 0.074,                   accuracy: 96.93%\n",
      "Epoch: 2/10, iteration: 300/600, loss: 0.091,                   accuracy: 96.71%\n",
      "Epoch: 2/10, iteration: 400/600, loss: 0.136,                   accuracy: 96.86%\n",
      "Epoch: 2/10, iteration: 500/600, loss: 0.108,                   accuracy: 96.98%\n",
      "Epoch: 2/10, iteration: 600/600, loss: 0.110,                   accuracy: 97.06%\n",
      "Epoch: 3/10, iteration: 100/600, loss: 0.132,                   accuracy: 98.30%\n",
      "Epoch: 3/10, iteration: 200/600, loss: 0.089,                   accuracy: 98.09%\n",
      "Epoch: 3/10, iteration: 300/600, loss: 0.034,                   accuracy: 97.95%\n",
      "Epoch: 3/10, iteration: 400/600, loss: 0.059,                   accuracy: 97.97%\n",
      "Epoch: 3/10, iteration: 500/600, loss: 0.021,                   accuracy: 98.02%\n",
      "Epoch: 3/10, iteration: 600/600, loss: 0.057,                   accuracy: 97.99%\n",
      "Epoch: 4/10, iteration: 100/600, loss: 0.030,                   accuracy: 98.68%\n",
      "Epoch: 4/10, iteration: 200/600, loss: 0.006,                   accuracy: 98.64%\n",
      "Epoch: 4/10, iteration: 300/600, loss: 0.051,                   accuracy: 98.57%\n",
      "Epoch: 4/10, iteration: 400/600, loss: 0.058,                   accuracy: 98.57%\n",
      "Epoch: 4/10, iteration: 500/600, loss: 0.059,                   accuracy: 98.54%\n",
      "Epoch: 4/10, iteration: 600/600, loss: 0.040,                   accuracy: 98.56%\n",
      "Epoch: 5/10, iteration: 100/600, loss: 0.012,                   accuracy: 99.31%\n",
      "Epoch: 5/10, iteration: 200/600, loss: 0.025,                   accuracy: 99.15%\n",
      "Epoch: 5/10, iteration: 300/600, loss: 0.035,                   accuracy: 99.02%\n",
      "Epoch: 5/10, iteration: 400/600, loss: 0.030,                   accuracy: 98.94%\n",
      "Epoch: 5/10, iteration: 500/600, loss: 0.015,                   accuracy: 98.89%\n",
      "Epoch: 5/10, iteration: 600/600, loss: 0.011,                   accuracy: 98.90%\n",
      "Epoch: 6/10, iteration: 100/600, loss: 0.022,                   accuracy: 99.36%\n",
      "Epoch: 6/10, iteration: 200/600, loss: 0.007,                   accuracy: 99.29%\n",
      "Epoch: 6/10, iteration: 300/600, loss: 0.047,                   accuracy: 99.25%\n",
      "Epoch: 6/10, iteration: 400/600, loss: 0.054,                   accuracy: 99.19%\n",
      "Epoch: 6/10, iteration: 500/600, loss: 0.093,                   accuracy: 99.17%\n",
      "Epoch: 6/10, iteration: 600/600, loss: 0.010,                   accuracy: 99.12%\n",
      "Epoch: 7/10, iteration: 100/600, loss: 0.015,                   accuracy: 99.40%\n",
      "Epoch: 7/10, iteration: 200/600, loss: 0.042,                   accuracy: 99.33%\n",
      "Epoch: 7/10, iteration: 300/600, loss: 0.005,                   accuracy: 99.32%\n",
      "Epoch: 7/10, iteration: 400/600, loss: 0.040,                   accuracy: 99.29%\n",
      "Epoch: 7/10, iteration: 500/600, loss: 0.043,                   accuracy: 99.26%\n",
      "Epoch: 7/10, iteration: 600/600, loss: 0.005,                   accuracy: 99.26%\n",
      "Epoch: 8/10, iteration: 100/600, loss: 0.001,                   accuracy: 99.63%\n",
      "Epoch: 8/10, iteration: 200/600, loss: 0.017,                   accuracy: 99.47%\n",
      "Epoch: 8/10, iteration: 300/600, loss: 0.032,                   accuracy: 99.43%\n",
      "Epoch: 8/10, iteration: 400/600, loss: 0.018,                   accuracy: 99.44%\n",
      "Epoch: 8/10, iteration: 500/600, loss: 0.002,                   accuracy: 99.41%\n",
      "Epoch: 8/10, iteration: 600/600, loss: 0.035,                   accuracy: 99.40%\n",
      "Epoch: 9/10, iteration: 100/600, loss: 0.002,                   accuracy: 99.64%\n",
      "Epoch: 9/10, iteration: 200/600, loss: 0.035,                   accuracy: 99.49%\n",
      "Epoch: 9/10, iteration: 300/600, loss: 0.004,                   accuracy: 99.48%\n",
      "Epoch: 9/10, iteration: 400/600, loss: 0.005,                   accuracy: 99.49%\n",
      "Epoch: 9/10, iteration: 500/600, loss: 0.006,                   accuracy: 99.47%\n",
      "Epoch: 9/10, iteration: 600/600, loss: 0.001,                   accuracy: 99.47%\n",
      "Epoch: 10/10, iteration: 100/600, loss: 0.001,                   accuracy: 99.50%\n",
      "Epoch: 10/10, iteration: 200/600, loss: 0.000,                   accuracy: 99.65%\n",
      "Epoch: 10/10, iteration: 300/600, loss: 0.005,                   accuracy: 99.63%\n",
      "Epoch: 10/10, iteration: 400/600, loss: 0.000,                   accuracy: 99.62%\n",
      "Epoch: 10/10, iteration: 500/600, loss: 0.001,                   accuracy: 99.56%\n",
      "Epoch: 10/10, iteration: 600/600, loss: 0.005,                   accuracy: 99.52%\n"
     ]
    }
   ],
   "source": [
    "# Training the network\n",
    "for epoch in range(epochs):\n",
    "    total_train = 0\n",
    "    correct_train = 0\n",
    "    for i, (images, labels) in enumerate(training_dataloader):\n",
    "        images = images.view(-1, 784)\n",
    "        \n",
    "        outputs = model(images)\n",
    "        _, predictions = torch.max(outputs, 1)\n",
    "        total_train += len(images)\n",
    "        correct_train += (predictions == labels).sum()\n",
    "        \n",
    "        loss = loss_fn(outputs, labels)\n",
    "        optimizer.zero_grad()\n",
    "        loss.backward()\n",
    "        optimizer.step()\n",
    "        \n",
    "        if (i+1)%100 == 0:\n",
    "            print(f\"Epoch: {epoch+1}/{epochs}, iteration: {i+1}/{len(training_dataset)//images.shape[0]}, loss: {loss:.3f}, \\\n",
    "                  accuracy: {(correct_train/total_train)*100:.2f}%\")\n",
    "        "
   ]
  },
  {
   "cell_type": "code",
   "execution_count": 13,
   "id": "54e25a4e",
   "metadata": {},
   "outputs": [
    {
     "name": "stdout",
     "output_type": "stream",
     "text": [
      "Accuracy: 97.26%\n"
     ]
    }
   ],
   "source": [
    "# Calculating testing accuracy\n",
    "test_loader = torch.utils.data.DataLoader(dataset=test_dataset, batch_size=100)\n",
    "\n",
    "correct_preds = 0\n",
    "for images, labels in test_loader:\n",
    "    images = images.view(-1, 784)\n",
    "    _, predictions = torch.max(model(images), 1)\n",
    "    correct_preds += (predictions == labels).sum()\n",
    "\n",
    "print(\"Accuracy: {:.2f}%\".format(correct_preds/len(test_dataset)*100.0))"
   ]
  },
  {
   "cell_type": "code",
   "execution_count": 14,
   "id": "404a4a70",
   "metadata": {},
   "outputs": [
    {
     "data": {
      "image/png": "[encoded data removed]",
      "text/plain": [
       "<Figure size 432x288 with 1 Axes>"
      ]
     },
     "metadata": {
      "needs_background": "light"
     },
     "output_type": "display_data"
    }
   ],
   "source": [
    "# Visualzing the prediction\n",
    "index = 100\n",
    "_, prediction = torch.max(model(test_dataset.data[index].float().view(-1, 784)), 1)\n",
    "plt.imshow(test_dataset.data[index], cmap='gray')\n",
    "plt.title(f'Label: {test_dataset.targets[index]} | Prediction: {test_dataset.classes[prediction]}')\n",
    "plt.show()"
   ]
  }
 ],
 "metadata": {
  "kernelspec": {
   "display_name": "Python 3 (ipykernel)",
   "language": "python",
   "name": "python3"
  },
  "language_info": {
   "codemirror_mode": {
    "name": "ipython",
    "version": 3
   },
   "file_extension": ".py",
   "mimetype": "text/x-python",
   "name": "python",
   "nbconvert_exporter": "python",
   "pygments_lexer": "ipython3",
   "version": "3.9.7"
  }
 },
 "nbformat": 4,
 "nbformat_minor": 5
}
