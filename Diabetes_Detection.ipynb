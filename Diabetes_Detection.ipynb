{
 "cells": [
  {
   "cell_type": "code",
   "execution_count": 1,
   "id": "a1c0b96d",
   "metadata": {},
   "outputs": [],
   "source": [
    "import numpy as np\n",
    "import pandas as pd\n",
    "import matplotlib.pyplot as plt\n",
    "import torch\n",
    "import torch.nn as nn"
   ]
  },
  {
   "cell_type": "code",
   "execution_count": 3,
   "id": "128456a6",
   "metadata": {
    "scrolled": true
   },
   "outputs": [
    {
     "data": {
      "text/html": [
       "<div>\n",
       "<style scoped>\n",
       "    .dataframe tbody tr th:only-of-type {\n",
       "        vertical-align: middle;\n",
       "    }\n",
       "\n",
       "    .dataframe tbody tr th {\n",
       "        vertical-align: top;\n",
       "    }\n",
       "\n",
       "    .dataframe thead th {\n",
       "        text-align: right;\n",
       "    }\n",
       "</style>\n",
       "<table border=\"1\" class=\"dataframe\">\n",
       "  <thead>\n",
       "    <tr style=\"text-align: right;\">\n",
       "      <th></th>\n",
       "      <th>Number of times pregnant</th>\n",
       "      <th>Plasma glucose concentration</th>\n",
       "      <th>Diastolic blood pressure</th>\n",
       "      <th>Triceps skin fold thickness</th>\n",
       "      <th>2-Hour serum insulin</th>\n",
       "      <th>Body mass index</th>\n",
       "      <th>Age</th>\n",
       "      <th>Class</th>\n",
       "    </tr>\n",
       "  </thead>\n",
       "  <tbody>\n",
       "    <tr>\n",
       "      <th>0</th>\n",
       "      <td>6</td>\n",
       "      <td>148</td>\n",
       "      <td>72</td>\n",
       "      <td>35</td>\n",
       "      <td>0</td>\n",
       "      <td>33.6</td>\n",
       "      <td>50</td>\n",
       "      <td>positive</td>\n",
       "    </tr>\n",
       "    <tr>\n",
       "      <th>1</th>\n",
       "      <td>1</td>\n",
       "      <td>85</td>\n",
       "      <td>66</td>\n",
       "      <td>29</td>\n",
       "      <td>0</td>\n",
       "      <td>26.6</td>\n",
       "      <td>31</td>\n",
       "      <td>negative</td>\n",
       "    </tr>\n",
       "    <tr>\n",
       "      <th>2</th>\n",
       "      <td>8</td>\n",
       "      <td>183</td>\n",
       "      <td>64</td>\n",
       "      <td>0</td>\n",
       "      <td>0</td>\n",
       "      <td>23.3</td>\n",
       "      <td>32</td>\n",
       "      <td>positive</td>\n",
       "    </tr>\n",
       "    <tr>\n",
       "      <th>3</th>\n",
       "      <td>1</td>\n",
       "      <td>89</td>\n",
       "      <td>66</td>\n",
       "      <td>23</td>\n",
       "      <td>94</td>\n",
       "      <td>28.1</td>\n",
       "      <td>21</td>\n",
       "      <td>negative</td>\n",
       "    </tr>\n",
       "    <tr>\n",
       "      <th>4</th>\n",
       "      <td>0</td>\n",
       "      <td>137</td>\n",
       "      <td>40</td>\n",
       "      <td>35</td>\n",
       "      <td>168</td>\n",
       "      <td>43.1</td>\n",
       "      <td>33</td>\n",
       "      <td>positive</td>\n",
       "    </tr>\n",
       "  </tbody>\n",
       "</table>\n",
       "</div>"
      ],
      "text/plain": [
       "   Number of times pregnant  Plasma glucose concentration  \\\n",
       "0                         6                           148   \n",
       "1                         1                            85   \n",
       "2                         8                           183   \n",
       "3                         1                            89   \n",
       "4                         0                           137   \n",
       "\n",
       "   Diastolic blood pressure  Triceps skin fold thickness  \\\n",
       "0                        72                           35   \n",
       "1                        66                           29   \n",
       "2                        64                            0   \n",
       "3                        66                           23   \n",
       "4                        40                           35   \n",
       "\n",
       "   2-Hour serum insulin  Body mass index  Age     Class  \n",
       "0                     0             33.6   50  positive  \n",
       "1                     0             26.6   31  negative  \n",
       "2                     0             23.3   32  positive  \n",
       "3                    94             28.1   21  negative  \n",
       "4                   168             43.1   33  positive  "
      ]
     },
     "execution_count": 3,
     "metadata": {},
     "output_type": "execute_result"
    }
   ],
   "source": [
    "# Importing the dataset\n",
    "data = pd.read_csv('diabetes.csv')\n",
    "data.head()"
   ]
  },
  {
   "cell_type": "code",
   "execution_count": 5,
   "id": "291b198f",
   "metadata": {},
   "outputs": [],
   "source": [
    "# Seperate the features and labels\n",
    "features = data.iloc[:, :-1].values\n",
    "labels = data.iloc[:, -1]"
   ]
  },
  {
   "cell_type": "code",
   "execution_count": 21,
   "id": "7a0d2229",
   "metadata": {},
   "outputs": [],
   "source": [
    "# One hot encoding the labels\n",
    "from sklearn.preprocessing import LabelEncoder\n",
    "le = LabelEncoder()\n",
    "y = le.fit_transform(labels).astype(float)"
   ]
  },
  {
   "cell_type": "code",
   "execution_count": 22,
   "id": "748d017f",
   "metadata": {},
   "outputs": [],
   "source": [
    "# Scaling/Normalizing the features\n",
    "from sklearn.preprocessing import StandardScaler\n",
    "sc = StandardScaler()\n",
    "X = sc.fit_transform(features)"
   ]
  },
  {
   "cell_type": "code",
   "execution_count": 23,
   "id": "cfb8b5af",
   "metadata": {},
   "outputs": [],
   "source": [
    "# Convert the np_array into torch.tensor\n",
    "X = torch.from_numpy(X)\n",
    "y = torch.from_numpy(y).unsqueeze(1)"
   ]
  },
  {
   "cell_type": "code",
   "execution_count": 25,
   "id": "3ad3d37c",
   "metadata": {},
   "outputs": [
    {
     "name": "stdout",
     "output_type": "stream",
     "text": [
      "torch.Size([768, 7]) torch.Size([768, 1])\n"
     ]
    }
   ],
   "source": [
    "print(X.shape, y.shape)"
   ]
  },
  {
   "cell_type": "code",
   "execution_count": 26,
   "id": "a5ea710c",
   "metadata": {},
   "outputs": [],
   "source": [
    "# Prepare custom dataset using torch.utils.data.Dataset\n",
    "class Dataset(torch.utils.data.Dataset):\n",
    "    \n",
    "    def __init__(self, X, y):\n",
    "        self.x = X\n",
    "        self.y = y\n",
    "    \n",
    "    def __len__(self):\n",
    "        return len(self.x)\n",
    "    \n",
    "    def __getitem__(self, index):\n",
    "        return (self.x[index], self.y[index])"
   ]
  },
  {
   "cell_type": "code",
   "execution_count": 27,
   "id": "e47fc924",
   "metadata": {},
   "outputs": [],
   "source": [
    "dataset = Dataset(X, y)"
   ]
  },
  {
   "cell_type": "code",
   "execution_count": 30,
   "id": "0ee91895",
   "metadata": {},
   "outputs": [],
   "source": [
    "# Prepare dataloader\n",
    "train_loader = torch.utils.data.DataLoader(dataset=dataset,\n",
    "                                     batch_size=32,\n",
    "                                     shuffle=True)"
   ]
  },
  {
   "cell_type": "code",
   "execution_count": 32,
   "id": "cd8df557",
   "metadata": {},
   "outputs": [
    {
     "name": "stdout",
     "output_type": "stream",
     "text": [
      "Number of batches: 24\n",
      "Shape of x: torch.Size([32, 7])\n",
      "Shape of y: torch.Size([32, 1])\n"
     ]
    }
   ],
   "source": [
    "# Examine the batch size\n",
    "print(\"Number of batches:\", len(train_loader))\n",
    "for (x, y) in train_loader:\n",
    "    print(\"Shape of x:\", x.shape)\n",
    "    print(\"Shape of y:\", y.shape)\n",
    "    break"
   ]
  },
  {
   "cell_type": "code",
   "execution_count": 52,
   "id": "c7918427",
   "metadata": {},
   "outputs": [],
   "source": [
    "# Defining the model\n",
    "class Model(nn.Module):\n",
    "    def __init__(self, num_of_features, num_of_output_classes):\n",
    "        super().__init__()\n",
    "        self.fc1 = nn.Linear(num_of_features, 5)\n",
    "        self.fc2 = nn.Linear(5, 4)\n",
    "        self.fc3 = nn.Linear(4, 3)\n",
    "        self.fc4 = nn.Linear(3, num_of_output_classes)\n",
    "        self.tanh = nn.Tanh()\n",
    "        self.sigmoid = nn.Sigmoid()\n",
    "    \n",
    "    def forward(self, X):\n",
    "        out = self.fc1(X)\n",
    "        out = self.tanh(out)\n",
    "        out = self.fc2(out)\n",
    "        out = self.tanh(out)\n",
    "        out = self.fc3(out)\n",
    "        out = self.tanh(out)\n",
    "        out = self.fc4(out)\n",
    "        out = self.sigmoid(out)\n",
    "        return out"
   ]
  },
  {
   "cell_type": "code",
   "execution_count": 53,
   "id": "96b4ee06",
   "metadata": {},
   "outputs": [],
   "source": [
    "# Building the model\n",
    "model = Model(7, 1)\n",
    "\n",
    "# Define the loss function\n",
    "criterion = nn.BCELoss(reduction='mean')\n",
    "\n",
    "# Define the optimizer\n",
    "optimizer = torch.optim.SGD(model.parameters(), lr=0.1, momentum=0.9)"
   ]
  },
  {
   "cell_type": "code",
   "execution_count": 58,
   "id": "8f5d5ac3",
   "metadata": {},
   "outputs": [
    {
     "name": "stdout",
     "output_type": "stream",
     "text": [
      "Epoch: 10/200, Loss: 0.332, Accuracy: 0.906\n",
      "Epoch: 20/200, Loss: 0.245, Accuracy: 0.875\n",
      "Epoch: 30/200, Loss: 0.388, Accuracy: 0.812\n",
      "Epoch: 40/200, Loss: 0.309, Accuracy: 0.906\n",
      "Epoch: 50/200, Loss: 0.446, Accuracy: 0.781\n",
      "Epoch: 60/200, Loss: 0.299, Accuracy: 0.938\n",
      "Epoch: 70/200, Loss: 0.322, Accuracy: 0.906\n",
      "Epoch: 80/200, Loss: 0.219, Accuracy: 0.906\n",
      "Epoch: 90/200, Loss: 0.502, Accuracy: 0.719\n",
      "Epoch: 100/200, Loss: 0.275, Accuracy: 0.875\n",
      "Epoch: 110/200, Loss: 0.560, Accuracy: 0.781\n",
      "Epoch: 120/200, Loss: 0.486, Accuracy: 0.781\n",
      "Epoch: 130/200, Loss: 0.525, Accuracy: 0.719\n",
      "Epoch: 140/200, Loss: 0.536, Accuracy: 0.656\n",
      "Epoch: 150/200, Loss: 0.351, Accuracy: 0.938\n",
      "Epoch: 160/200, Loss: 0.315, Accuracy: 0.844\n",
      "Epoch: 170/200, Loss: 0.370, Accuracy: 0.812\n",
      "Epoch: 180/200, Loss: 0.260, Accuracy: 0.938\n",
      "Epoch: 190/200, Loss: 0.408, Accuracy: 0.750\n",
      "Epoch: 200/200, Loss: 0.407, Accuracy: 0.719\n"
     ]
    }
   ],
   "source": [
    "# Training the network\n",
    "epochs = 200\n",
    "for epoch in range(epochs):\n",
    "    for features, label in train_loader:\n",
    "        # Forward propagation\n",
    "        output = model(features.float())\n",
    "        # Calculating loss\n",
    "        loss = criterion(output.float(), label.float())\n",
    "        # make gradient zero\n",
    "        optimizer.zero_grad()\n",
    "        # Backward propagation\n",
    "        loss.backward()\n",
    "        # Weight update\n",
    "        optimizer.step()\n",
    "    \n",
    "    # Accuracy calculation\n",
    "    output = (output > 0.5).float()\n",
    "    accuracy = (output == label).float().mean()\n",
    "    # Printing Statistics\n",
    "    if (epoch+1)%10 == 0:\n",
    "        print(f\"Epoch: {epoch+1}/{epochs}, Loss: {loss:.3f}, Accuracy: {accuracy:.3f}\")"
   ]
  },
  {
   "cell_type": "code",
   "execution_count": null,
   "id": "11e82cec",
   "metadata": {},
   "outputs": [],
   "source": []
  }
 ],
 "metadata": {
  "kernelspec": {
   "display_name": "Python 3 (ipykernel)",
   "language": "python",
   "name": "python3"
  },
  "language_info": {
   "codemirror_mode": {
    "name": "ipython",
    "version": 3
   },
   "file_extension": ".py",
   "mimetype": "text/x-python",
   "name": "python",
   "nbconvert_exporter": "python",
   "pygments_lexer": "ipython3",
   "version": "3.9.7"
  }
 },
 "nbformat": 4,
 "nbformat_minor": 5
}
