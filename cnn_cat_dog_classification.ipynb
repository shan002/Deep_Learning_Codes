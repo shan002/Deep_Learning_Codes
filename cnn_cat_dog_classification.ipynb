{
 "cells": [
  {
   "cell_type": "markdown",
   "metadata": {
    "id": "fVb_cjPV8A0g"
   },
   "source": [
    "# Convolutional Neural Network (Run on a local machine!)"
   ]
  },
  {
   "cell_type": "markdown",
   "metadata": {
    "id": "6xSqm-Ox8MDW"
   },
   "source": [
    "## Part 1 - Importing the libraries"
   ]
  },
  {
   "cell_type": "code",
   "execution_count": 1,
   "metadata": {
    "id": "Y7CovJnS70X2"
   },
   "outputs": [],
   "source": [
    "import tensorflow as tf\n",
    "from tensorflow.keras.preprocessing.image import ImageDataGenerator"
   ]
  },
  {
   "cell_type": "code",
   "execution_count": 2,
   "metadata": {
    "colab": {
     "base_uri": "https://localhost:8080/",
     "height": 35
    },
    "id": "c9uAE12N8iHo",
    "outputId": "53f50ddd-34b1-4cae-80c5-bcf06bb1a36e"
   },
   "outputs": [
    {
     "data": {
      "text/plain": [
       "'2.5.0'"
      ]
     },
     "execution_count": 2,
     "metadata": {},
     "output_type": "execute_result"
    }
   ],
   "source": [
    "tf.__version__"
   ]
  },
  {
   "cell_type": "markdown",
   "metadata": {
    "id": "Su7asUXr8kLr"
   },
   "source": [
    "## Part 2 - Data Preprocessing"
   ]
  },
  {
   "cell_type": "code",
   "execution_count": 3,
   "metadata": {
    "id": "k2aFiFU88oZu"
   },
   "outputs": [
    {
     "name": "stdout",
     "output_type": "stream",
     "text": [
      "Found 8000 images belonging to 2 classes.\n"
     ]
    }
   ],
   "source": [
    "training_data_gen = ImageDataGenerator(\n",
    "    rescale = 1./255,\n",
    "    shear_range = 0.2,\n",
    "    zoom_range = 0.2,\n",
    "    horizontal_flip = True\n",
    ")\n",
    "\n",
    "training_set = training_data_gen.flow_from_directory(\n",
    "    'dataset/training_set',\n",
    "    target_size = (64, 64),\n",
    "    batch_size = 32,\n",
    "    class_mode = 'binary'\n",
    ")"
   ]
  },
  {
   "cell_type": "code",
   "execution_count": 4,
   "metadata": {
    "id": "mCt7a-hJ-_e7"
   },
   "outputs": [
    {
     "name": "stdout",
     "output_type": "stream",
     "text": [
      "Found 2000 images belonging to 2 classes.\n"
     ]
    }
   ],
   "source": [
    "test_data_gen = ImageDataGenerator(rescale = 1./255)\n",
    "\n",
    "test_set = test_data_gen.flow_from_directory(\n",
    "    'dataset/test_set', \n",
    "     target_size = (64, 64),\n",
    "     batch_size = 32,\n",
    "     class_mode = 'binary'\n",
    ")"
   ]
  },
  {
   "cell_type": "markdown",
   "metadata": {
    "id": "lOFi2k1Q_oSn"
   },
   "source": [
    "## Part 3 - Building the CNN model"
   ]
  },
  {
   "cell_type": "markdown",
   "metadata": {
    "id": "qKyVMZWE_wAo"
   },
   "source": [
    "### Initializing the model"
   ]
  },
  {
   "cell_type": "code",
   "execution_count": 5,
   "metadata": {
    "id": "QJW4auHu_u6Z"
   },
   "outputs": [],
   "source": [
    "cnn = tf.keras.models.Sequential()"
   ]
  },
  {
   "cell_type": "markdown",
   "metadata": {
    "id": "rwcCs2-9AEsM"
   },
   "source": [
    "### Step 1 - Adding a convolution layer"
   ]
  },
  {
   "cell_type": "code",
   "execution_count": 6,
   "metadata": {
    "id": "xmGpX6L5ACAf"
   },
   "outputs": [],
   "source": [
    "cnn.add(tf.keras.layers.Conv2D(filters=32, kernel_size=3, activation='relu', input_shape=(64, 64, 3)))"
   ]
  },
  {
   "cell_type": "markdown",
   "metadata": {
    "id": "l2dl3w2FAws3"
   },
   "source": [
    "### Step 2 - Adding a pooling layer\n",
    "\n"
   ]
  },
  {
   "cell_type": "code",
   "execution_count": 7,
   "metadata": {
    "id": "NN8t7NrbAvtm"
   },
   "outputs": [],
   "source": [
    "cnn.add(tf.keras.layers.MaxPool2D(pool_size=(2, 2), strides=2))"
   ]
  },
  {
   "cell_type": "markdown",
   "metadata": {
    "id": "k7g5GLXhBi_l"
   },
   "source": [
    "### Adding another layer of convolution layer"
   ]
  },
  {
   "cell_type": "code",
   "execution_count": 8,
   "metadata": {
    "id": "U7J5d8h_Bm7E"
   },
   "outputs": [],
   "source": [
    "cnn.add(tf.keras.layers.Conv2D(filters=32, kernel_size=3, activation='relu'))\n",
    "cnn.add(tf.keras.layers.MaxPool2D(pool_size=(2, 2), strides=2))"
   ]
  },
  {
   "cell_type": "markdown",
   "metadata": {
    "id": "AglRM2WdByvK"
   },
   "source": [
    "### Step 3 - Adding a flattening layer"
   ]
  },
  {
   "cell_type": "code",
   "execution_count": 9,
   "metadata": {
    "id": "xEppInsTB_va"
   },
   "outputs": [],
   "source": [
    "cnn.add(tf.keras.layers.Flatten())"
   ]
  },
  {
   "cell_type": "markdown",
   "metadata": {
    "id": "VqODZn3rGH1F"
   },
   "source": [
    "### Step 4 - Adding the hidden and output layer"
   ]
  },
  {
   "cell_type": "code",
   "execution_count": 10,
   "metadata": {
    "id": "R14axaOvGM7T"
   },
   "outputs": [],
   "source": [
    "cnn.add(tf.keras.layers.Dense(units=128, activation='relu')) # hidden layer\n",
    "cnn.add(tf.keras.layers.Dense(units=1, activation='sigmoid')) # output layer"
   ]
  },
  {
   "cell_type": "markdown",
   "metadata": {
    "id": "93zDXbGsCjIk"
   },
   "source": [
    "## Part 4 - Training the CNN model with the training data"
   ]
  },
  {
   "cell_type": "code",
   "execution_count": 11,
   "metadata": {
    "id": "d_HZYJQZCp-j"
   },
   "outputs": [],
   "source": [
    "cnn.compile(optimizer='adam', loss='binary_crossentropy', metrics=['accuracy'])"
   ]
  },
  {
   "cell_type": "code",
   "execution_count": 12,
   "metadata": {
    "id": "zvfX9ZK-C-bR",
    "scrolled": true
   },
   "outputs": [
    {
     "name": "stdout",
     "output_type": "stream",
     "text": [
      "Epoch 1/25\n",
      "250/250 [==============================] - 57s 223ms/step - loss: 0.6671 - accuracy: 0.5944 - val_loss: 0.6181 - val_accuracy: 0.6765\n",
      "Epoch 2/25\n",
      "250/250 [==============================] - 50s 198ms/step - loss: 0.6150 - accuracy: 0.6631 - val_loss: 0.5662 - val_accuracy: 0.7140\n",
      "Epoch 3/25\n",
      "250/250 [==============================] - 50s 199ms/step - loss: 0.5692 - accuracy: 0.7048 - val_loss: 0.5411 - val_accuracy: 0.7395\n",
      "Epoch 4/25\n",
      "250/250 [==============================] - 50s 198ms/step - loss: 0.5345 - accuracy: 0.7276 - val_loss: 0.4924 - val_accuracy: 0.7650\n",
      "Epoch 5/25\n",
      "250/250 [==============================] - 51s 204ms/step - loss: 0.5164 - accuracy: 0.7433 - val_loss: 0.5109 - val_accuracy: 0.7530\n",
      "Epoch 6/25\n",
      "250/250 [==============================] - 51s 204ms/step - loss: 0.4943 - accuracy: 0.7585 - val_loss: 0.5199 - val_accuracy: 0.7480\n",
      "Epoch 7/25\n",
      "250/250 [==============================] - 51s 204ms/step - loss: 0.4796 - accuracy: 0.7670 - val_loss: 0.5199 - val_accuracy: 0.7490\n",
      "Epoch 8/25\n",
      "250/250 [==============================] - 50s 199ms/step - loss: 0.4633 - accuracy: 0.7765 - val_loss: 0.4775 - val_accuracy: 0.7690\n",
      "Epoch 9/25\n",
      "250/250 [==============================] - 51s 203ms/step - loss: 0.4499 - accuracy: 0.7807 - val_loss: 0.4747 - val_accuracy: 0.7870\n",
      "Epoch 10/25\n",
      "250/250 [==============================] - 53s 212ms/step - loss: 0.4489 - accuracy: 0.7859 - val_loss: 0.4630 - val_accuracy: 0.7915\n",
      "Epoch 11/25\n",
      "250/250 [==============================] - 55s 219ms/step - loss: 0.4234 - accuracy: 0.8015 - val_loss: 0.4876 - val_accuracy: 0.7700\n",
      "Epoch 12/25\n",
      "250/250 [==============================] - 54s 214ms/step - loss: 0.4139 - accuracy: 0.8050 - val_loss: 0.4637 - val_accuracy: 0.7985\n",
      "Epoch 13/25\n",
      "250/250 [==============================] - 52s 207ms/step - loss: 0.3989 - accuracy: 0.8177 - val_loss: 0.4662 - val_accuracy: 0.7955\n",
      "Epoch 14/25\n",
      "250/250 [==============================] - 51s 203ms/step - loss: 0.3940 - accuracy: 0.8200 - val_loss: 0.4981 - val_accuracy: 0.7775\n",
      "Epoch 15/25\n",
      "250/250 [==============================] - 56s 225ms/step - loss: 0.3710 - accuracy: 0.8298 - val_loss: 0.4967 - val_accuracy: 0.7875\n",
      "Epoch 16/25\n",
      "250/250 [==============================] - 55s 221ms/step - loss: 0.3675 - accuracy: 0.8330 - val_loss: 0.4900 - val_accuracy: 0.7765\n",
      "Epoch 17/25\n",
      "250/250 [==============================] - 55s 220ms/step - loss: 0.3564 - accuracy: 0.8388 - val_loss: 0.5030 - val_accuracy: 0.7850\n",
      "Epoch 18/25\n",
      "250/250 [==============================] - 53s 210ms/step - loss: 0.3397 - accuracy: 0.8495 - val_loss: 0.5847 - val_accuracy: 0.7460\n",
      "Epoch 19/25\n",
      "250/250 [==============================] - 56s 224ms/step - loss: 0.3218 - accuracy: 0.8564 - val_loss: 0.4594 - val_accuracy: 0.8095\n",
      "Epoch 20/25\n",
      "250/250 [==============================] - 56s 222ms/step - loss: 0.3171 - accuracy: 0.8635 - val_loss: 0.5498 - val_accuracy: 0.7595\n",
      "Epoch 21/25\n",
      "250/250 [==============================] - 55s 220ms/step - loss: 0.3021 - accuracy: 0.8699 - val_loss: 0.5215 - val_accuracy: 0.7945\n",
      "Epoch 22/25\n",
      "250/250 [==============================] - 54s 215ms/step - loss: 0.2828 - accuracy: 0.8779 - val_loss: 0.4902 - val_accuracy: 0.8035\n",
      "Epoch 23/25\n",
      "250/250 [==============================] - 53s 213ms/step - loss: 0.2852 - accuracy: 0.8760 - val_loss: 0.5019 - val_accuracy: 0.8005\n",
      "Epoch 24/25\n",
      "250/250 [==============================] - 56s 225ms/step - loss: 0.2639 - accuracy: 0.8901 - val_loss: 0.5263 - val_accuracy: 0.8010\n",
      "Epoch 25/25\n",
      "250/250 [==============================] - 55s 221ms/step - loss: 0.2594 - accuracy: 0.8894 - val_loss: 0.5539 - val_accuracy: 0.7945\n"
     ]
    },
    {
     "data": {
      "text/plain": [
       "<tensorflow.python.keras.callbacks.History at 0x18da42d5a60>"
      ]
     },
     "execution_count": 12,
     "metadata": {},
     "output_type": "execute_result"
    }
   ],
   "source": [
    "cnn.fit(x=training_set, validation_data=test_set, batch_size=32, epochs=25)"
   ]
  },
  {
   "cell_type": "markdown",
   "metadata": {
    "id": "2MCUidiCDsFo"
   },
   "source": [
    "## Part 5 - Classifying new images"
   ]
  },
  {
   "cell_type": "code",
   "execution_count": 16,
   "metadata": {
    "id": "MytbmbMYDz_5"
   },
   "outputs": [
    {
     "name": "stdout",
     "output_type": "stream",
     "text": [
      "Image 1 is a Dog\n",
      "Image 2 is a Cat\n",
      "Image 3 is a Cat\n",
      "Image 4 is a Dog\n"
     ]
    }
   ],
   "source": [
    "import numpy as np\n",
    "classes = ('Cat', 'Dog')\n",
    "image_count = 4\n",
    "for i in range(1, image_count+1):\n",
    "    X_test = tf.keras.preprocessing.image.load_img(f'dataset/single_prediction/cat_or_dog_{i}.jpg', target_size=(64, 64))\n",
    "    X_test = tf.keras.preprocessing.image.img_to_array(X_test)\n",
    "    X_test = np.array([X_test])\n",
    "    prediction = int(cnn.predict(X_test)[0][0])\n",
    "    print(f'Image {i} is a {classes[prediction]}')"
   ]
  }
 ],
 "metadata": {
  "colab": {
   "collapsed_sections": [],
   "name": "01. convolutional_neural_network.ipynb",
   "provenance": []
  },
  "kernelspec": {
   "display_name": "Python 3",
   "language": "python",
   "name": "python3"
  },
  "language_info": {
   "codemirror_mode": {
    "name": "ipython",
    "version": 3
   },
   "file_extension": ".py",
   "mimetype": "text/x-python",
   "name": "python",
   "nbconvert_exporter": "python",
   "pygments_lexer": "ipython3",
   "version": "3.9.4"
  }
 },
 "nbformat": 4,
 "nbformat_minor": 1
}
